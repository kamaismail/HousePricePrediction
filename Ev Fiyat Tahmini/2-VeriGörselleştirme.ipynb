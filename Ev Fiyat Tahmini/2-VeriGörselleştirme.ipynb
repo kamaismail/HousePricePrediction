{
 "cells": [
  {
   "cell_type": "code",
   "execution_count": 98,
   "id": "c0068958",
   "metadata": {},
   "outputs": [],
   "source": [
    "import pandas as pd\n",
    "import seaborn as sns\n",
    "import matplotlib.pyplot as plt"
   ]
  },
  {
   "cell_type": "code",
   "execution_count": 99,
   "id": "affc0bcb",
   "metadata": {},
   "outputs": [],
   "source": [
    "df = pd.read_csv(\"outputCSV.csv\")\n",
    "df.drop(\"Unnamed: 0\", axis = 1, inplace = True)"
   ]
  },
  {
   "cell_type": "code",
   "execution_count": 100,
   "id": "92415dbe",
   "metadata": {},
   "outputs": [],
   "source": [
    "# Sütun Adlarını Düzenleme\n",
    "df_2 = df.rename(columns = {\"0\":\"fiyat\",\n",
    "                     \"1\":\"il\",\n",
    "                     \"2\":\"ilce\",\n",
    "                     \"3\":\"mahalle\",\n",
    "                     \"4\":\"ilan_durumu\",\n",
    "                     \"5\":\"konut\",\n",
    "                     \"6\":\"oda_sayisi\",\n",
    "                     \"7\":\"net_mt\",\n",
    "                     \"8\":\"brut_mt\",\n",
    "                     \"9\":\"dairenin_katı\",\n",
    "                     \"10\":\"yas\",\n",
    "                     \"11\":\"esya_durumu\",\n",
    "                     \"12\":\"banyo_sayisi\",\n",
    "                     \"13\":\"yapi_tipi\",\n",
    "                     \"14\":\"site_icerisinde\",\n",
    "                     \"15\":\"yakit_tipi\"})"
   ]
  },
  {
   "cell_type": "code",
   "execution_count": 101,
   "id": "37f73d05",
   "metadata": {},
   "outputs": [
    {
     "data": {
      "text/plain": [
       "Daire        1041\n",
       "Residence     155\n",
       "Yazlık          4\n",
       "Villa           1\n",
       "Name: konut, dtype: int64"
      ]
     },
     "execution_count": 101,
     "metadata": {},
     "output_type": "execute_result"
    }
   ],
   "source": [
    "df_2.konut.value_counts()"
   ]
  },
  {
   "cell_type": "code",
   "execution_count": 17,
   "id": "ff8dd4ef",
   "metadata": {},
   "outputs": [
    {
     "name": "stdout",
     "output_type": "stream",
     "text": [
      "<class 'pandas.core.frame.DataFrame'>\n",
      "RangeIndex: 1201 entries, 0 to 1200\n",
      "Data columns (total 16 columns):\n",
      " #   Column           Non-Null Count  Dtype \n",
      "---  ------           --------------  ----- \n",
      " 0   fiyat            1201 non-null   object\n",
      " 1   il               1201 non-null   object\n",
      " 2   ilce             1201 non-null   object\n",
      " 3   mahalle          1201 non-null   object\n",
      " 4   ilan_durumu      1201 non-null   object\n",
      " 5   konut            1201 non-null   object\n",
      " 6   oda_sayisi       1201 non-null   object\n",
      " 7   net_mt           1201 non-null   object\n",
      " 8   brut_mt          1201 non-null   object\n",
      " 9   dairenin_katı    1201 non-null   object\n",
      " 10  yas              1201 non-null   object\n",
      " 11  esya_durumu      1201 non-null   object\n",
      " 12  banyo_sayisi     1201 non-null   int64 \n",
      " 13  yapi_tipi        1201 non-null   object\n",
      " 14  site_icerisinde  1201 non-null   object\n",
      " 15  yakit_tipi       1201 non-null   object\n",
      "dtypes: int64(1), object(15)\n",
      "memory usage: 150.2+ KB\n"
     ]
    }
   ],
   "source": [
    "df_2.info()"
   ]
  },
  {
   "cell_type": "code",
   "execution_count": 20,
   "id": "daf07fa7",
   "metadata": {
    "scrolled": true
   },
   "outputs": [
    {
     "data": {
      "text/html": [
       "<div>\n",
       "<style scoped>\n",
       "    .dataframe tbody tr th:only-of-type {\n",
       "        vertical-align: middle;\n",
       "    }\n",
       "\n",
       "    .dataframe tbody tr th {\n",
       "        vertical-align: top;\n",
       "    }\n",
       "\n",
       "    .dataframe thead th {\n",
       "        text-align: right;\n",
       "    }\n",
       "</style>\n",
       "<table border=\"1\" class=\"dataframe\">\n",
       "  <thead>\n",
       "    <tr style=\"text-align: right;\">\n",
       "      <th></th>\n",
       "      <th>fiyat</th>\n",
       "      <th>il</th>\n",
       "      <th>ilce</th>\n",
       "      <th>mahalle</th>\n",
       "      <th>ilan_durumu</th>\n",
       "      <th>konut</th>\n",
       "      <th>oda_sayisi</th>\n",
       "      <th>net_mt</th>\n",
       "      <th>brut_mt</th>\n",
       "      <th>dairenin_katı</th>\n",
       "      <th>yas</th>\n",
       "      <th>esya_durumu</th>\n",
       "      <th>banyo_sayisi</th>\n",
       "      <th>yapi_tipi</th>\n",
       "      <th>site_icerisinde</th>\n",
       "      <th>yakit_tipi</th>\n",
       "    </tr>\n",
       "  </thead>\n",
       "  <tbody>\n",
       "    <tr>\n",
       "      <th>0</th>\n",
       "      <td>1.350.000 TL</td>\n",
       "      <td>İstanbul</td>\n",
       "      <td>Beylikdüzü</td>\n",
       "      <td>Cuhuriyet</td>\n",
       "      <td>Satılık</td>\n",
       "      <td>Daire</td>\n",
       "      <td>3 + 1</td>\n",
       "      <td>150 m2</td>\n",
       "      <td>140 m2</td>\n",
       "      <td>Ara Kat</td>\n",
       "      <td>1 Yaşında</td>\n",
       "      <td>Eşyalı Değil</td>\n",
       "      <td>1</td>\n",
       "      <td>Betonarme</td>\n",
       "      <td>Evet (Site Adı Belirtilmemiş)</td>\n",
       "      <td>Doğalgaz</td>\n",
       "    </tr>\n",
       "    <tr>\n",
       "      <th>1</th>\n",
       "      <td>22.000.000 TL</td>\n",
       "      <td>İstanbul</td>\n",
       "      <td>Beşiktaş</td>\n",
       "      <td>Etiler</td>\n",
       "      <td>Satılık</td>\n",
       "      <td>Daire</td>\n",
       "      <td>5 + 1</td>\n",
       "      <td>284 m2</td>\n",
       "      <td>256 m2</td>\n",
       "      <td>4. Kat</td>\n",
       "      <td>14 Yaşında</td>\n",
       "      <td>Eşyalı Değil</td>\n",
       "      <td>3</td>\n",
       "      <td>Betonarme</td>\n",
       "      <td>Badur Boğaziçi Evleri Sitesi</td>\n",
       "      <td>Doğalgaz</td>\n",
       "    </tr>\n",
       "    <tr>\n",
       "      <th>2</th>\n",
       "      <td>3.950.000 TL</td>\n",
       "      <td>İstanbul</td>\n",
       "      <td>Maltepe</td>\n",
       "      <td>Feyzullah</td>\n",
       "      <td>Satılık</td>\n",
       "      <td>Daire</td>\n",
       "      <td>3 + 1</td>\n",
       "      <td>165 m2</td>\n",
       "      <td>145 m2</td>\n",
       "      <td>1. Kat</td>\n",
       "      <td>28 Yaşında</td>\n",
       "      <td>Eşyalı Değil</td>\n",
       "      <td>1</td>\n",
       "      <td>Betonarme</td>\n",
       "      <td>Adatepe Sitesi</td>\n",
       "      <td>Doğalgaz</td>\n",
       "    </tr>\n",
       "    <tr>\n",
       "      <th>3</th>\n",
       "      <td>50.400.000 TL</td>\n",
       "      <td>İstanbul</td>\n",
       "      <td>Beşiktaş</td>\n",
       "      <td>Levazı</td>\n",
       "      <td>Satılık</td>\n",
       "      <td>Residence</td>\n",
       "      <td>4 + 1</td>\n",
       "      <td>420 m2</td>\n",
       "      <td>350 m2</td>\n",
       "      <td>Bahçe Katı</td>\n",
       "      <td>2 Yaşında</td>\n",
       "      <td>Eşyalı Değil</td>\n",
       "      <td>4</td>\n",
       "      <td>Betonarme</td>\n",
       "      <td>yooistanbul</td>\n",
       "      <td>Doğalgaz</td>\n",
       "    </tr>\n",
       "    <tr>\n",
       "      <th>4</th>\n",
       "      <td>4.300.000 TL</td>\n",
       "      <td>İstanbul</td>\n",
       "      <td>Büyükçekece</td>\n",
       "      <td>Ekinoba</td>\n",
       "      <td>Satılık</td>\n",
       "      <td>Daire</td>\n",
       "      <td>3 + 1</td>\n",
       "      <td>160 m2</td>\n",
       "      <td>116 m2</td>\n",
       "      <td>1. Kat</td>\n",
       "      <td>2 Yaşında</td>\n",
       "      <td>Eşyalı</td>\n",
       "      <td>2</td>\n",
       "      <td>Betonarme</td>\n",
       "      <td>Evet (Site Adı Belirtilmemiş)</td>\n",
       "      <td>Doğalgaz</td>\n",
       "    </tr>\n",
       "  </tbody>\n",
       "</table>\n",
       "</div>"
      ],
      "text/plain": [
       "           fiyat        il         ilce    mahalle ilan_durumu      konut  \\\n",
       "0   1.350.000 TL  İstanbul   Beylikdüzü  Cuhuriyet     Satılık      Daire   \n",
       "1  22.000.000 TL  İstanbul     Beşiktaş     Etiler     Satılık      Daire   \n",
       "2   3.950.000 TL  İstanbul      Maltepe  Feyzullah     Satılık      Daire   \n",
       "3  50.400.000 TL  İstanbul     Beşiktaş     Levazı     Satılık  Residence   \n",
       "4   4.300.000 TL  İstanbul  Büyükçekece    Ekinoba     Satılık      Daire   \n",
       "\n",
       "  oda_sayisi  net_mt brut_mt dairenin_katı         yas   esya_durumu  \\\n",
       "0      3 + 1  150 m2  140 m2       Ara Kat   1 Yaşında  Eşyalı Değil   \n",
       "1      5 + 1  284 m2  256 m2        4. Kat  14 Yaşında  Eşyalı Değil   \n",
       "2      3 + 1  165 m2  145 m2        1. Kat  28 Yaşında  Eşyalı Değil   \n",
       "3      4 + 1  420 m2  350 m2    Bahçe Katı   2 Yaşında  Eşyalı Değil   \n",
       "4      3 + 1  160 m2  116 m2        1. Kat   2 Yaşında        Eşyalı   \n",
       "\n",
       "   banyo_sayisi  yapi_tipi                site_icerisinde yakit_tipi  \n",
       "0             1  Betonarme  Evet (Site Adı Belirtilmemiş)   Doğalgaz  \n",
       "1             3  Betonarme   Badur Boğaziçi Evleri Sitesi   Doğalgaz  \n",
       "2             1  Betonarme                 Adatepe Sitesi   Doğalgaz  \n",
       "3             4  Betonarme                    yooistanbul   Doğalgaz  \n",
       "4             2  Betonarme  Evet (Site Adı Belirtilmemiş)   Doğalgaz  "
      ]
     },
     "execution_count": 20,
     "metadata": {},
     "output_type": "execute_result"
    }
   ],
   "source": [
    "df_2.head()"
   ]
  },
  {
   "cell_type": "code",
   "execution_count": 21,
   "id": "dad26e3b",
   "metadata": {},
   "outputs": [
    {
     "data": {
      "text/html": [
       "<div>\n",
       "<style scoped>\n",
       "    .dataframe tbody tr th:only-of-type {\n",
       "        vertical-align: middle;\n",
       "    }\n",
       "\n",
       "    .dataframe tbody tr th {\n",
       "        vertical-align: top;\n",
       "    }\n",
       "\n",
       "    .dataframe thead th {\n",
       "        text-align: right;\n",
       "    }\n",
       "</style>\n",
       "<table border=\"1\" class=\"dataframe\">\n",
       "  <thead>\n",
       "    <tr style=\"text-align: right;\">\n",
       "      <th></th>\n",
       "      <th>fiyat</th>\n",
       "      <th>il</th>\n",
       "      <th>ilce</th>\n",
       "      <th>mahalle</th>\n",
       "      <th>ilan_durumu</th>\n",
       "      <th>konut</th>\n",
       "      <th>oda_sayisi</th>\n",
       "      <th>net_mt</th>\n",
       "      <th>brut_mt</th>\n",
       "      <th>dairenin_katı</th>\n",
       "      <th>yas</th>\n",
       "      <th>esya_durumu</th>\n",
       "      <th>banyo_sayisi</th>\n",
       "      <th>yapi_tipi</th>\n",
       "      <th>site_icerisinde</th>\n",
       "      <th>yakit_tipi</th>\n",
       "    </tr>\n",
       "  </thead>\n",
       "  <tbody>\n",
       "    <tr>\n",
       "      <th>1196</th>\n",
       "      <td>1.200.000 TL</td>\n",
       "      <td>İstanbul</td>\n",
       "      <td>Esenyurt</td>\n",
       "      <td>Akevler</td>\n",
       "      <td>Satılık</td>\n",
       "      <td>Daire</td>\n",
       "      <td>2 + 1</td>\n",
       "      <td>120 m2</td>\n",
       "      <td>110 m2</td>\n",
       "      <td>Bahçe Katı</td>\n",
       "      <td>3 Yaşında</td>\n",
       "      <td>Eşyalı Değil</td>\n",
       "      <td>1</td>\n",
       "      <td>Betonarme</td>\n",
       "      <td>Evet (Site Adı Belirtilmemiş)</td>\n",
       "      <td>Doğalgaz</td>\n",
       "    </tr>\n",
       "    <tr>\n",
       "      <th>1197</th>\n",
       "      <td>2.132.000 TL</td>\n",
       "      <td>İstanbul</td>\n",
       "      <td>Başakşehir</td>\n",
       "      <td>Bahçeşehir2.Kısı</td>\n",
       "      <td>Satılık</td>\n",
       "      <td>Daire</td>\n",
       "      <td>2 + 1</td>\n",
       "      <td>123 m2</td>\n",
       "      <td>99 m2</td>\n",
       "      <td>3. Kat</td>\n",
       "      <td>1 Yaşında</td>\n",
       "      <td>Eşyalı Değil</td>\n",
       "      <td>2</td>\n",
       "      <td>Betonarme</td>\n",
       "      <td>Evet (Site Adı Belirtilmemiş)</td>\n",
       "      <td>Elektrik</td>\n",
       "    </tr>\n",
       "    <tr>\n",
       "      <th>1198</th>\n",
       "      <td>650.000 TL</td>\n",
       "      <td>İstanbul</td>\n",
       "      <td>Esenyurt</td>\n",
       "      <td>PiriReis</td>\n",
       "      <td>Satılık</td>\n",
       "      <td>Daire</td>\n",
       "      <td>2 + 1</td>\n",
       "      <td>102 m2</td>\n",
       "      <td>98 m2</td>\n",
       "      <td>Kot 1</td>\n",
       "      <td>1 Yaşında</td>\n",
       "      <td>Eşyalı Değil</td>\n",
       "      <td>1</td>\n",
       "      <td>Betonarme</td>\n",
       "      <td>HİLL İSTANBUL</td>\n",
       "      <td>Doğalgaz</td>\n",
       "    </tr>\n",
       "    <tr>\n",
       "      <th>1199</th>\n",
       "      <td>4.600.000.000 TL</td>\n",
       "      <td>İstanbul</td>\n",
       "      <td>Zeytinburnu</td>\n",
       "      <td>Seyitniza</td>\n",
       "      <td>Satılık</td>\n",
       "      <td>Daire</td>\n",
       "      <td>3 + 1</td>\n",
       "      <td>125 m2</td>\n",
       "      <td>115 m2</td>\n",
       "      <td>11. Kat</td>\n",
       "      <td>20 Yaşında</td>\n",
       "      <td>Eşyalı</td>\n",
       "      <td>2</td>\n",
       "      <td>Betonarme</td>\n",
       "      <td>Akevler</td>\n",
       "      <td>Doğalgaz</td>\n",
       "    </tr>\n",
       "    <tr>\n",
       "      <th>1200</th>\n",
       "      <td>2.450.000 TL</td>\n",
       "      <td>İstanbul</td>\n",
       "      <td>Bağcılar</td>\n",
       "      <td>15Teuz</td>\n",
       "      <td>Satılık</td>\n",
       "      <td>Residence</td>\n",
       "      <td>1 + 1</td>\n",
       "      <td>70 m2</td>\n",
       "      <td>50 m2</td>\n",
       "      <td>19. Kat</td>\n",
       "      <td>Sıfır Bina</td>\n",
       "      <td>Eşyalı Değil</td>\n",
       "      <td>1</td>\n",
       "      <td>Betonarme</td>\n",
       "      <td>Toya Next Rezidans</td>\n",
       "      <td>Doğalgaz</td>\n",
       "    </tr>\n",
       "  </tbody>\n",
       "</table>\n",
       "</div>"
      ],
      "text/plain": [
       "                 fiyat        il         ilce           mahalle ilan_durumu  \\\n",
       "1196      1.200.000 TL  İstanbul     Esenyurt           Akevler     Satılık   \n",
       "1197      2.132.000 TL  İstanbul   Başakşehir  Bahçeşehir2.Kısı     Satılık   \n",
       "1198        650.000 TL  İstanbul     Esenyurt          PiriReis     Satılık   \n",
       "1199  4.600.000.000 TL  İstanbul  Zeytinburnu         Seyitniza     Satılık   \n",
       "1200      2.450.000 TL  İstanbul     Bağcılar            15Teuz     Satılık   \n",
       "\n",
       "          konut oda_sayisi  net_mt brut_mt dairenin_katı         yas  \\\n",
       "1196      Daire      2 + 1  120 m2  110 m2    Bahçe Katı   3 Yaşında   \n",
       "1197      Daire      2 + 1  123 m2   99 m2        3. Kat   1 Yaşında   \n",
       "1198      Daire      2 + 1  102 m2   98 m2         Kot 1   1 Yaşında   \n",
       "1199      Daire      3 + 1  125 m2  115 m2       11. Kat  20 Yaşında   \n",
       "1200  Residence      1 + 1   70 m2   50 m2       19. Kat  Sıfır Bina   \n",
       "\n",
       "       esya_durumu  banyo_sayisi  yapi_tipi                site_icerisinde  \\\n",
       "1196  Eşyalı Değil             1  Betonarme  Evet (Site Adı Belirtilmemiş)   \n",
       "1197  Eşyalı Değil             2  Betonarme  Evet (Site Adı Belirtilmemiş)   \n",
       "1198  Eşyalı Değil             1  Betonarme                  HİLL İSTANBUL   \n",
       "1199        Eşyalı             2  Betonarme                        Akevler   \n",
       "1200  Eşyalı Değil             1  Betonarme             Toya Next Rezidans   \n",
       "\n",
       "     yakit_tipi  \n",
       "1196   Doğalgaz  \n",
       "1197   Elektrik  \n",
       "1198   Doğalgaz  \n",
       "1199   Doğalgaz  \n",
       "1200   Doğalgaz  "
      ]
     },
     "execution_count": 21,
     "metadata": {},
     "output_type": "execute_result"
    }
   ],
   "source": [
    "df_2.tail()"
   ]
  },
  {
   "cell_type": "markdown",
   "id": "ca84efa2",
   "metadata": {},
   "source": [
    "## İLÇE İNCELEME"
   ]
  },
  {
   "cell_type": "code",
   "execution_count": 23,
   "id": "76c4ec87",
   "metadata": {},
   "outputs": [
    {
     "data": {
      "text/plain": [
       "Sarıyer         125\n",
       "Beylikdüzü      118\n",
       "Esenyurt        108\n",
       "Başakşehir       63\n",
       "Beşiktaş         62\n",
       "Eyüpsultan       57\n",
       "Kağıthane        52\n",
       "Büyükçekece      47\n",
       "Küçükçekece      45\n",
       "Kartal           40\n",
       "Kadıköy          40\n",
       "Şişli            39\n",
       "Maltepe          33\n",
       "Bakırköy         31\n",
       "Üraniye          30\n",
       "Zeytinburnu      29\n",
       "Pendik           28\n",
       "Silivri          27\n",
       "Bağcılar         25\n",
       "Çekeköy          25\n",
       "Üsküdar          21\n",
       "Gaziosanpaşa     19\n",
       "Tuzla            18\n",
       "Ataşehir         18\n",
       "Sancaktepe       14\n",
       "Avcılar          13\n",
       "Bahçelievler     12\n",
       "Beykoz           11\n",
       "Sultanbeyli      11\n",
       "Arnavutköy       10\n",
       "Güngören          6\n",
       "Beyoğlu           5\n",
       "Fatih             5\n",
       "Esenler           4\n",
       "Adalar            4\n",
       "Bayrapaşa         3\n",
       "Sultangazi        2\n",
       "Çatalca           1\n",
       "Name: ilce, dtype: int64"
      ]
     },
     "execution_count": 23,
     "metadata": {},
     "output_type": "execute_result"
    }
   ],
   "source": [
    "df_2.ilce.value_counts()\n"
   ]
  },
  {
   "cell_type": "code",
   "execution_count": 51,
   "id": "d258b74e",
   "metadata": {},
   "outputs": [
    {
     "data": {
      "text/plain": [
       "<AxesSubplot:>"
      ]
     },
     "execution_count": 51,
     "metadata": {},
     "output_type": "execute_result"
    },
    {
     "data": {
      "image/png": "[encoded data removed]",
      "text/plain": [
       "<Figure size 432x288 with 1 Axes>"
      ]
     },
     "metadata": {
      "needs_background": "light"
     },
     "output_type": "display_data"
    }
   ],
   "source": [
    "df_2.ilce.value_counts().plot.barh()"
   ]
  },
  {
   "cell_type": "markdown",
   "id": "7af1e686",
   "metadata": {},
   "source": [
    "## KONUT TİPİ"
   ]
  },
  {
   "cell_type": "code",
   "execution_count": 52,
   "id": "3d7c57ac",
   "metadata": {},
   "outputs": [
    {
     "data": {
      "text/plain": [
       "Daire        1041\n",
       "Residence     155\n",
       "Yazlık          4\n",
       "Villa           1\n",
       "Name: konut, dtype: int64"
      ]
     },
     "execution_count": 52,
     "metadata": {},
     "output_type": "execute_result"
    }
   ],
   "source": [
    "df_2.konut.value_counts()\n"
   ]
  },
  {
   "cell_type": "code",
   "execution_count": 53,
   "id": "3aaed600",
   "metadata": {},
   "outputs": [
    {
     "data": {
      "text/plain": [
       "<AxesSubplot:>"
      ]
     },
     "execution_count": 53,
     "metadata": {},
     "output_type": "execute_result"
    },
    {
     "data": {
      "image/png": "[encoded data removed]",
      "text/plain": [
       "<Figure size 432x288 with 1 Axes>"
      ]
     },
     "metadata": {
      "needs_background": "light"
     },
     "output_type": "display_data"
    }
   ],
   "source": [
    "df_2.konut.value_counts().plot.barh()"
   ]
  },
  {
   "cell_type": "markdown",
   "id": "28081453",
   "metadata": {},
   "source": [
    "## Yapı Durumu İnceleme\n"
   ]
  },
  {
   "cell_type": "code",
   "execution_count": 54,
   "id": "5c7fd0cc",
   "metadata": {},
   "outputs": [
    {
     "data": {
      "text/plain": [
       "Betonarme    1156\n",
       "Çelik          33\n",
       "Kagir           6\n",
       "Taş Bina        4\n",
       "Yığma           1\n",
       "Ahşap           1\n",
       "Name: yapi_tipi, dtype: int64"
      ]
     },
     "execution_count": 54,
     "metadata": {},
     "output_type": "execute_result"
    }
   ],
   "source": [
    "df_2.yapi_tipi.value_counts()\n"
   ]
  },
  {
   "cell_type": "code",
   "execution_count": 55,
   "id": "6deabdbb",
   "metadata": {},
   "outputs": [
    {
     "data": {
      "image/png": "[encoded data removed]",
      "text/plain": [
       "<Figure size 432x288 with 1 Axes>"
      ]
     },
     "metadata": {
      "needs_background": "light"
     },
     "output_type": "display_data"
    }
   ],
   "source": [
    "sns.barplot(x = \"yapi_tipi\", y = df_2.yapi_tipi.index, data= df_2);"
   ]
  },
  {
   "cell_type": "markdown",
   "id": "3273e99f",
   "metadata": {},
   "source": [
    "## oda_sayisi iNCELEME"
   ]
  },
  {
   "cell_type": "code",
   "execution_count": 56,
   "id": "84c4ee67",
   "metadata": {},
   "outputs": [
    {
     "data": {
      "text/plain": [
       "3 + 1     455\n",
       "2 + 1     368\n",
       "1 + 1     139\n",
       "4 + 1     101\n",
       "5 + 1      33\n",
       "4 + 2      32\n",
       "5 + 2      19\n",
       "3 + 2      17\n",
       "1 + 0      17\n",
       "6 + 1       5\n",
       "6 + 2       4\n",
       "2 + 2       3\n",
       "7 + 2       3\n",
       "5 + 3       2\n",
       "21 + 1      1\n",
       "45 + 1      1\n",
       "8 + 2       1\n",
       "Name: oda_sayisi, dtype: int64"
      ]
     },
     "execution_count": 56,
     "metadata": {},
     "output_type": "execute_result"
    }
   ],
   "source": [
    "df_2.oda_sayisi.value_counts()\n"
   ]
  },
  {
   "cell_type": "code",
   "execution_count": 60,
   "id": "25aab176",
   "metadata": {},
   "outputs": [
    {
     "data": {
      "text/plain": [
       "<AxesSubplot:>"
      ]
     },
     "execution_count": 60,
     "metadata": {},
     "output_type": "execute_result"
    },
    {
     "data": {
      "image/png": "[encoded data removed]",
      "text/plain": [
       "<Figure size 432x288 with 1 Axes>"
      ]
     },
     "metadata": {
      "needs_background": "light"
     },
     "output_type": "display_data"
    }
   ],
   "source": [
    "df_2.oda_sayisi.value_counts().plot.barh()"
   ]
  },
  {
   "cell_type": "markdown",
   "id": "4fe296eb",
   "metadata": {},
   "source": [
    "## Bina Yaşı"
   ]
  },
  {
   "cell_type": "code",
   "execution_count": 64,
   "id": "5090567e",
   "metadata": {},
   "outputs": [
    {
     "data": {
      "text/plain": [
       "Sıfır Bina    206\n",
       "4 Yaşında      81\n",
       "10 Yaşında     80\n",
       "5 Yaşında      78\n",
       "2 Yaşında      68\n",
       "3 Yaşında      62\n",
       "1 Yaşında      61\n",
       "7 Yaşında      57\n",
       "8 Yaşında      54\n",
       "20 Yaşında     54\n",
       "6 Yaşında      47\n",
       "25 Yaşında     41\n",
       "12 Yaşında     39\n",
       "30 Yaşında     33\n",
       "9 Yaşında      29\n",
       "11 Yaşında     27\n",
       "15 Yaşında     25\n",
       "13 Yaşında     16\n",
       "22 Yaşında     15\n",
       "14 Yaşında     11\n",
       "16 Yaşında     11\n",
       "18 Yaşında     11\n",
       "21 Yaşında     11\n",
       "35 Yaşında     10\n",
       "26 Yaşında      9\n",
       "28 Yaşında      8\n",
       "24 Yaşında      8\n",
       "23 Yaşında      8\n",
       "31 Yaşında      7\n",
       "17 Yaşında      7\n",
       "40 Yaşında      6\n",
       "38 Yaşında      3\n",
       "45 Yaşında      3\n",
       "19 Yaşında      2\n",
       "27 Yaşında      2\n",
       "32 Yaşında      2\n",
       "36 Yaşında      2\n",
       "33 Yaşında      2\n",
       "39 Yaşında      1\n",
       "56 Yaşında      1\n",
       "34 Yaşında      1\n",
       "60 Yaşında      1\n",
       "29 Yaşında      1\n",
       "Name: yas, dtype: int64"
      ]
     },
     "execution_count": 64,
     "metadata": {},
     "output_type": "execute_result"
    }
   ],
   "source": [
    "df_2.yas.value_counts()\n"
   ]
  },
  {
   "cell_type": "code",
   "execution_count": 65,
   "id": "58083aaa",
   "metadata": {},
   "outputs": [
    {
     "data": {
      "text/plain": [
       "<AxesSubplot:>"
      ]
     },
     "execution_count": 65,
     "metadata": {},
     "output_type": "execute_result"
    },
    {
     "data": {
      "image/png": "[encoded data removed]",
      "text/plain": [
       "<Figure size 432x288 with 1 Axes>"
      ]
     },
     "metadata": {
      "needs_background": "light"
     },
     "output_type": "display_data"
    }
   ],
   "source": [
    "df_2.yas.value_counts().plot.barh()"
   ]
  },
  {
   "cell_type": "markdown",
   "id": "33f67eeb",
   "metadata": {},
   "source": [
    "## Dairenin Katı"
   ]
  },
  {
   "cell_type": "code",
   "execution_count": 66,
   "id": "dedc7aec",
   "metadata": {},
   "outputs": [
    {
     "data": {
      "text/plain": [
       "Ara Kat            135\n",
       "2. Kat             102\n",
       "3. Kat              92\n",
       "4. Kat              90\n",
       "5. Kat              87\n",
       "1. Kat              81\n",
       "Bahçe Katı          74\n",
       "21 ve üzeri         50\n",
       "8. Kat              49\n",
       "7. Kat              47\n",
       "6. Kat              39\n",
       "En Üst Kat          39\n",
       "9. Kat              37\n",
       "Yüksek Giriş        34\n",
       "10. Kat             33\n",
       "11. Kat             28\n",
       "Giriş Katı          24\n",
       "Çatı Katı           22\n",
       "12. Kat             21\n",
       "14. Kat             18\n",
       "13. Kat             16\n",
       "17. Kat             10\n",
       "15. Kat             10\n",
       "19. Kat              9\n",
       "Villa Katı           8\n",
       "18. Kat              8\n",
       "Kot 1                6\n",
       "Zemin                6\n",
       "Kot 2                5\n",
       "20. Kat              5\n",
       "16. Kat              5\n",
       "Teras Katı           4\n",
       "Yarı Bodrum          2\n",
       "Bodrum               2\n",
       "Bodrum ve Zemin      1\n",
       "Asma Kat             1\n",
       "Kot 3                1\n",
       "Name: dairenin_katı, dtype: int64"
      ]
     },
     "execution_count": 66,
     "metadata": {},
     "output_type": "execute_result"
    }
   ],
   "source": [
    "df_2.dairenin_katı.value_counts()\n"
   ]
  },
  {
   "cell_type": "markdown",
   "id": "12dec4c4",
   "metadata": {},
   "source": [
    "## Isınma Türü"
   ]
  },
  {
   "cell_type": "code",
   "execution_count": 68,
   "id": "7a8f4510",
   "metadata": {},
   "outputs": [
    {
     "data": {
      "text/plain": [
       "Doğalgaz      1165\n",
       "Elektrik        34\n",
       "Kömür-Odun       1\n",
       "Akaryakıt        1\n",
       "Name: yakit_tipi, dtype: int64"
      ]
     },
     "execution_count": 68,
     "metadata": {},
     "output_type": "execute_result"
    }
   ],
   "source": [
    "df_2.yakit_tipi.value_counts()\n"
   ]
  },
  {
   "cell_type": "code",
   "execution_count": 78,
   "id": "6719b246",
   "metadata": {},
   "outputs": [
    {
     "data": {
      "image/png": "[encoded data removed]",
      "text/plain": [
       "<Figure size 360x1440 with 1 Axes>"
      ]
     },
     "metadata": {},
     "output_type": "display_data"
    }
   ],
   "source": [
    "fig = plt.figure(figsize=(5,20))\n",
    "df_2.yakit_tipi.value_counts().plot(kind = 'pie',autopct='%.1f%%');"
   ]
  },
  {
   "cell_type": "markdown",
   "id": "3071e54c",
   "metadata": {},
   "source": [
    "## banyo_sayisi İnceleme\n"
   ]
  },
  {
   "cell_type": "code",
   "execution_count": 79,
   "id": "159dc493",
   "metadata": {},
   "outputs": [
    {
     "data": {
      "text/plain": [
       "2     556\n",
       "1     489\n",
       "3     120\n",
       "4      24\n",
       "5       7\n",
       "6       4\n",
       "14      1\n",
       "Name: banyo_sayisi, dtype: int64"
      ]
     },
     "execution_count": 79,
     "metadata": {},
     "output_type": "execute_result"
    }
   ],
   "source": [
    "df_2.banyo_sayisi.value_counts()\n"
   ]
  },
  {
   "cell_type": "code",
   "execution_count": 81,
   "id": "ada2934a",
   "metadata": {},
   "outputs": [
    {
     "data": {
      "image/png": "[encoded data removed]",
      "text/plain": [
       "<Figure size 432x288 with 1 Axes>"
      ]
     },
     "metadata": {
      "needs_background": "light"
     },
     "output_type": "display_data"
    }
   ],
   "source": [
    "sns.barplot(x = \"banyo_sayisi\", y = df_2.yapi_tipi.index, data= df_2);"
   ]
  },
  {
   "cell_type": "markdown",
   "id": "84844a9f",
   "metadata": {},
   "source": [
    "## Site İçerisinde"
   ]
  },
  {
   "cell_type": "code",
   "execution_count": 82,
   "id": "6be5a984",
   "metadata": {},
   "outputs": [
    {
     "data": {
      "text/plain": [
       "Evet (Site Adı Belirtilmemiş)    322\n",
       "Avangart İstanbul Rezidans         9\n",
       "Ağaoğlu Maslak 1453                8\n",
       "Evet (Site Adı Belir               6\n",
       "MASHATTAN                          6\n",
       "                                ... \n",
       "2001 Çengelköy konutları           1\n",
       "Cadde Life                         1\n",
       "Çağdaş Cem Kent Sitesi             1\n",
       "1istanbul Ispartakule Evleri       1\n",
       "Toya Next Rezidans                 1\n",
       "Name: site_icerisinde, Length: 745, dtype: int64"
      ]
     },
     "execution_count": 82,
     "metadata": {},
     "output_type": "execute_result"
    }
   ],
   "source": [
    "df_2.site_icerisinde.value_counts()"
   ]
  },
  {
   "cell_type": "code",
   "execution_count": null,
   "id": "df014610",
   "metadata": {},
   "outputs": [],
   "source": []
  },
  {
   "cell_type": "code",
   "execution_count": null,
   "id": "39e99259",
   "metadata": {},
   "outputs": [],
   "source": []
  }
 ],
 "metadata": {
  "kernelspec": {
   "display_name": "Python 3 (ipykernel)",
   "language": "python",
   "name": "python3"
  },
  "language_info": {
   "codemirror_mode": {
    "name": "ipython",
    "version": 3
   },
   "file_extension": ".py",
   "mimetype": "text/x-python",
   "name": "python",
   "nbconvert_exporter": "python",
   "pygments_lexer": "ipython3",
   "version": "3.9.7"
  }
 },
 "nbformat": 4,
 "nbformat_minor": 5
}

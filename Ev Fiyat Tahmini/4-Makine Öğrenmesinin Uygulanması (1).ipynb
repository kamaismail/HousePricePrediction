{
 "cells": [
  {
   "cell_type": "markdown",
   "id": "42739f6e",
   "metadata": {},
   "source": [
    "## Gradient Boosting Regressor Algoritmasının Uygulanması"
   ]
  },
  {
   "cell_type": "code",
   "execution_count": 1,
   "id": "762bb546",
   "metadata": {},
   "outputs": [],
   "source": [
    "from sklearn import preprocessing \n",
    "le = preprocessing.LabelEncoder()\n",
    "import numpy as np\n",
    "from sklearn.model_selection import train_test_split, GridSearchCV,cross_val_score\n",
    "import pandas as pd"
   ]
  },
  {
   "cell_type": "code",
   "execution_count": 2,
   "id": "b204bddc",
   "metadata": {},
   "outputs": [],
   "source": [
    "df = pd.read_excel(\"yeni3.xlsx\")\n",
    "df.drop(\"Unnamed: 0\", axis = 1, inplace = True)"
   ]
  },
  {
   "cell_type": "code",
   "execution_count": 3,
   "id": "af35386a",
   "metadata": {},
   "outputs": [
    {
     "data": {
      "text/html": [
       "<div>\n",
       "<style scoped>\n",
       "    .dataframe tbody tr th:only-of-type {\n",
       "        vertical-align: middle;\n",
       "    }\n",
       "\n",
       "    .dataframe tbody tr th {\n",
       "        vertical-align: top;\n",
       "    }\n",
       "\n",
       "    .dataframe thead th {\n",
       "        text-align: right;\n",
       "    }\n",
       "</style>\n",
       "<table border=\"1\" class=\"dataframe\">\n",
       "  <thead>\n",
       "    <tr style=\"text-align: right;\">\n",
       "      <th></th>\n",
       "      <th>fiyat</th>\n",
       "      <th>ilce</th>\n",
       "      <th>konut</th>\n",
       "      <th>oda_sayisi</th>\n",
       "      <th>net_mt</th>\n",
       "      <th>brut_mt</th>\n",
       "      <th>dairenin_katı</th>\n",
       "      <th>yas</th>\n",
       "      <th>esya_durumu</th>\n",
       "      <th>banyo_sayisi</th>\n",
       "      <th>yapi_tipi</th>\n",
       "      <th>yakit_tipi</th>\n",
       "    </tr>\n",
       "  </thead>\n",
       "  <tbody>\n",
       "    <tr>\n",
       "      <th>0</th>\n",
       "      <td>1350000</td>\n",
       "      <td>10</td>\n",
       "      <td>0</td>\n",
       "      <td>5</td>\n",
       "      <td>150</td>\n",
       "      <td>140</td>\n",
       "      <td>14</td>\n",
       "      <td>0</td>\n",
       "      <td>1</td>\n",
       "      <td>0</td>\n",
       "      <td>1</td>\n",
       "      <td>1</td>\n",
       "    </tr>\n",
       "    <tr>\n",
       "      <th>1</th>\n",
       "      <td>22000000</td>\n",
       "      <td>12</td>\n",
       "      <td>0</td>\n",
       "      <td>10</td>\n",
       "      <td>284</td>\n",
       "      <td>256</td>\n",
       "      <td>8</td>\n",
       "      <td>5</td>\n",
       "      <td>1</td>\n",
       "      <td>2</td>\n",
       "      <td>1</td>\n",
       "      <td>1</td>\n",
       "    </tr>\n",
       "    <tr>\n",
       "      <th>2</th>\n",
       "      <td>3950000</td>\n",
       "      <td>24</td>\n",
       "      <td>0</td>\n",
       "      <td>5</td>\n",
       "      <td>165</td>\n",
       "      <td>145</td>\n",
       "      <td>3</td>\n",
       "      <td>20</td>\n",
       "      <td>1</td>\n",
       "      <td>0</td>\n",
       "      <td>1</td>\n",
       "      <td>1</td>\n",
       "    </tr>\n",
       "    <tr>\n",
       "      <th>3</th>\n",
       "      <td>50400000</td>\n",
       "      <td>12</td>\n",
       "      <td>1</td>\n",
       "      <td>7</td>\n",
       "      <td>420</td>\n",
       "      <td>350</td>\n",
       "      <td>16</td>\n",
       "      <td>11</td>\n",
       "      <td>1</td>\n",
       "      <td>3</td>\n",
       "      <td>1</td>\n",
       "      <td>1</td>\n",
       "    </tr>\n",
       "    <tr>\n",
       "      <th>4</th>\n",
       "      <td>4300000</td>\n",
       "      <td>13</td>\n",
       "      <td>0</td>\n",
       "      <td>5</td>\n",
       "      <td>160</td>\n",
       "      <td>116</td>\n",
       "      <td>3</td>\n",
       "      <td>11</td>\n",
       "      <td>0</td>\n",
       "      <td>1</td>\n",
       "      <td>1</td>\n",
       "      <td>1</td>\n",
       "    </tr>\n",
       "    <tr>\n",
       "      <th>...</th>\n",
       "      <td>...</td>\n",
       "      <td>...</td>\n",
       "      <td>...</td>\n",
       "      <td>...</td>\n",
       "      <td>...</td>\n",
       "      <td>...</td>\n",
       "      <td>...</td>\n",
       "      <td>...</td>\n",
       "      <td>...</td>\n",
       "      <td>...</td>\n",
       "      <td>...</td>\n",
       "      <td>...</td>\n",
       "    </tr>\n",
       "    <tr>\n",
       "      <th>1196</th>\n",
       "      <td>1200000</td>\n",
       "      <td>15</td>\n",
       "      <td>0</td>\n",
       "      <td>2</td>\n",
       "      <td>120</td>\n",
       "      <td>110</td>\n",
       "      <td>16</td>\n",
       "      <td>22</td>\n",
       "      <td>1</td>\n",
       "      <td>0</td>\n",
       "      <td>1</td>\n",
       "      <td>1</td>\n",
       "    </tr>\n",
       "    <tr>\n",
       "      <th>1197</th>\n",
       "      <td>2132000</td>\n",
       "      <td>8</td>\n",
       "      <td>0</td>\n",
       "      <td>2</td>\n",
       "      <td>123</td>\n",
       "      <td>99</td>\n",
       "      <td>7</td>\n",
       "      <td>0</td>\n",
       "      <td>1</td>\n",
       "      <td>1</td>\n",
       "      <td>1</td>\n",
       "      <td>2</td>\n",
       "    </tr>\n",
       "    <tr>\n",
       "      <th>1198</th>\n",
       "      <td>650000</td>\n",
       "      <td>15</td>\n",
       "      <td>0</td>\n",
       "      <td>2</td>\n",
       "      <td>102</td>\n",
       "      <td>98</td>\n",
       "      <td>0</td>\n",
       "      <td>0</td>\n",
       "      <td>1</td>\n",
       "      <td>0</td>\n",
       "      <td>1</td>\n",
       "      <td>1</td>\n",
       "    </tr>\n",
       "    <tr>\n",
       "      <th>1199</th>\n",
       "      <td>4600000000</td>\n",
       "      <td>32</td>\n",
       "      <td>0</td>\n",
       "      <td>5</td>\n",
       "      <td>125</td>\n",
       "      <td>115</td>\n",
       "      <td>4</td>\n",
       "      <td>12</td>\n",
       "      <td>0</td>\n",
       "      <td>1</td>\n",
       "      <td>1</td>\n",
       "      <td>1</td>\n",
       "    </tr>\n",
       "    <tr>\n",
       "      <th>1200</th>\n",
       "      <td>2450000</td>\n",
       "      <td>7</td>\n",
       "      <td>1</td>\n",
       "      <td>1</td>\n",
       "      <td>70</td>\n",
       "      <td>50</td>\n",
       "      <td>4</td>\n",
       "      <td>42</td>\n",
       "      <td>1</td>\n",
       "      <td>0</td>\n",
       "      <td>1</td>\n",
       "      <td>1</td>\n",
       "    </tr>\n",
       "  </tbody>\n",
       "</table>\n",
       "<p>1201 rows × 12 columns</p>\n",
       "</div>"
      ],
      "text/plain": [
       "           fiyat  ilce  konut  oda_sayisi  net_mt  brut_mt  dairenin_katı  \\\n",
       "0        1350000    10      0           5     150      140             14   \n",
       "1       22000000    12      0          10     284      256              8   \n",
       "2        3950000    24      0           5     165      145              3   \n",
       "3       50400000    12      1           7     420      350             16   \n",
       "4        4300000    13      0           5     160      116              3   \n",
       "...          ...   ...    ...         ...     ...      ...            ...   \n",
       "1196     1200000    15      0           2     120      110             16   \n",
       "1197     2132000     8      0           2     123       99              7   \n",
       "1198      650000    15      0           2     102       98              0   \n",
       "1199  4600000000    32      0           5     125      115              4   \n",
       "1200     2450000     7      1           1      70       50              4   \n",
       "\n",
       "      yas  esya_durumu  banyo_sayisi  yapi_tipi  yakit_tipi  \n",
       "0       0            1             0          1           1  \n",
       "1       5            1             2          1           1  \n",
       "2      20            1             0          1           1  \n",
       "3      11            1             3          1           1  \n",
       "4      11            0             1          1           1  \n",
       "...   ...          ...           ...        ...         ...  \n",
       "1196   22            1             0          1           1  \n",
       "1197    0            1             1          1           2  \n",
       "1198    0            1             0          1           1  \n",
       "1199   12            0             1          1           1  \n",
       "1200   42            1             0          1           1  \n",
       "\n",
       "[1201 rows x 12 columns]"
      ]
     },
     "execution_count": 3,
     "metadata": {},
     "output_type": "execute_result"
    }
   ],
   "source": [
    "df"
   ]
  },
  {
   "cell_type": "markdown",
   "id": "22bdfdc9",
   "metadata": {},
   "source": [
    "Bazı değişkenlerin - değer çıkmasının sebebi fiyatlara negatif etki etmesindendir diye yorumladık."
   ]
  },
  {
   "cell_type": "code",
   "execution_count": 4,
   "id": "60968000",
   "metadata": {},
   "outputs": [
    {
     "name": "stdout",
     "output_type": "stream",
     "text": [
      "Fiyat ile en iyi ilişkisi olan değişken\n"
     ]
    },
    {
     "data": {
      "text/plain": [
       "fiyat            1.000000\n",
       "banyo_sayisi     0.044687\n",
       "ilce             0.040565\n",
       "brut_mt          0.038608\n",
       "oda_sayisi       0.037708\n",
       "net_mt           0.030283\n",
       "konut            0.003903\n",
       "yapi_tipi        0.000988\n",
       "yakit_tipi      -0.004459\n",
       "yas             -0.020880\n",
       "dairenin_katı   -0.028180\n",
       "esya_durumu     -0.093497\n",
       "Name: fiyat, dtype: float64"
      ]
     },
     "execution_count": 4,
     "metadata": {},
     "output_type": "execute_result"
    }
   ],
   "source": [
    "print('Fiyat ile en iyi ilişkisi olan değişken')\n",
    "corr = df.corr()\n",
    "corr.sort_values(['fiyat'], ascending = False, inplace = True)\n",
    "corr.fiyat"
   ]
  },
  {
   "cell_type": "code",
   "execution_count": 9,
   "id": "c9553afd",
   "metadata": {},
   "outputs": [],
   "source": [
    "y = df['fiyat']"
   ]
  },
  {
   "cell_type": "code",
   "execution_count": 10,
   "id": "58826780",
   "metadata": {},
   "outputs": [],
   "source": [
    "del df['fiyat']"
   ]
  },
  {
   "cell_type": "code",
   "execution_count": 11,
   "id": "aa217b06",
   "metadata": {},
   "outputs": [],
   "source": [
    "X = df.values\n",
    "y = y.values"
   ]
  },
  {
   "cell_type": "code",
   "execution_count": 12,
   "id": "55986c41",
   "metadata": {},
   "outputs": [],
   "source": [
    "#Verileri eğitim ve test verileri olmak üzere ikiye ayıralım (%60 eğitim, % 40 test)\n",
    "from sklearn.model_selection import train_test_split\n",
    "X_train, X_test, y_train, y_test = train_test_split(X, y, test_size = 0.40, random_state = 42)"
   ]
  },
  {
   "cell_type": "code",
   "execution_count": 13,
   "id": "98502ecf",
   "metadata": {},
   "outputs": [],
   "source": [
    "#modelimizi eğitelim\n",
    "from sklearn.ensemble import GradientBoostingRegressor\n",
    "GBR = GradientBoostingRegressor(n_estimators = 100, max_depth = 4)"
   ]
  },
  {
   "cell_type": "code",
   "execution_count": 14,
   "id": "561a653c",
   "metadata": {},
   "outputs": [
    {
     "data": {
      "text/plain": [
       "GradientBoostingRegressor(max_depth=4)"
      ]
     },
     "execution_count": 14,
     "metadata": {},
     "output_type": "execute_result"
    }
   ],
   "source": [
    "#Veri setimize model uygulayalım\n",
    "GBR.fit(X_train, y_train)"
   ]
  },
  {
   "cell_type": "code",
   "execution_count": 15,
   "id": "8391a893",
   "metadata": {},
   "outputs": [
    {
     "name": "stdout",
     "output_type": "stream",
     "text": [
      "Doğruluk Oranı : 71.6111\n"
     ]
    }
   ],
   "source": [
    "#Doğruluk oranımızı da kontrol edelim\n",
    "print(\"Doğruluk Oranı :\",(f\"{ GBR.score(X_test, y_test)*100:.4f}\"))"
   ]
  },
  {
   "cell_type": "code",
   "execution_count": 16,
   "id": "d15d64b1",
   "metadata": {},
   "outputs": [
    {
     "name": "stdout",
     "output_type": "stream",
     "text": [
      " Gerçek değerler: \n",
      " [ 2850000 11995000  3000000  1899000  4700000]\n"
     ]
    }
   ],
   "source": [
    "print(\" Gerçek değerler:\",\"\\n\",y_test[10:15])"
   ]
  },
  {
   "cell_type": "code",
   "execution_count": 17,
   "id": "20d6527e",
   "metadata": {},
   "outputs": [
    {
     "name": "stdout",
     "output_type": "stream",
     "text": [
      " Tahmin edilen değerler: \n",
      " [3305052.01114643 8879890.96373103 2811653.77139994 2271657.40312613\n",
      " 6627334.64334138]\n"
     ]
    }
   ],
   "source": [
    "print(\" Tahmin edilen değerler:\",\"\\n\", GBR.predict(X_test)[10:15])\n"
   ]
  },
  {
   "cell_type": "code",
   "execution_count": 65,
   "id": "ca5960ea",
   "metadata": {},
   "outputs": [
    {
     "name": "stdout",
     "output_type": "stream",
     "text": [
      "Tahmin edilen değer : [3185194.07103715]\n",
      "Gerçek değer : 3990000\n"
     ]
    }
   ],
   "source": [
    "print(\"Tahmin edilen değer : \" + str(GBR.predict([X_test[9]])))\n",
    "print(\"Gerçek değer : \" + str(y_test[9]))"
   ]
  },
  {
   "cell_type": "code",
   "execution_count": 20,
   "id": "1d6b4d9b",
   "metadata": {},
   "outputs": [
    {
     "data": {
      "text/plain": [
       "6370703.811437609"
      ]
     },
     "execution_count": 20,
     "metadata": {},
     "output_type": "execute_result"
    }
   ],
   "source": [
    "np.sqrt(-1*(cross_val_score(GBR, X_test, y_test, cv=10, scoring='neg_mean_squared_error'))).mean()"
   ]
  }
 ],
 "metadata": {
  "kernelspec": {
   "display_name": "Python 3 (ipykernel)",
   "language": "python",
   "name": "python3"
  },
  "language_info": {
   "codemirror_mode": {
    "name": "ipython",
    "version": 3
   },
   "file_extension": ".py",
   "mimetype": "text/x-python",
   "name": "python",
   "nbconvert_exporter": "python",
   "pygments_lexer": "ipython3",
   "version": "3.9.7"
  }
 },
 "nbformat": 4,
 "nbformat_minor": 5
}
